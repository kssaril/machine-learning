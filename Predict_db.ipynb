{
  "nbformat": 4,
  "nbformat_minor": 0,
  "metadata": {
    "colab": {
      "name": "Predict_db.ipynb",
      "version": "0.3.2",
      "provenance": [],
      "collapsed_sections": [],
      "include_colab_link": true
    },
    "kernelspec": {
      "name": "python2",
      "display_name": "Python 2"
    }
  },
  "cells": [
    {
      "cell_type": "markdown",
      "metadata": {
        "id": "view-in-github",
        "colab_type": "text"
      },
      "source": [
        "<a href=\"https://colab.research.google.com/github/kssaril/machine-learning/blob/master/Predict_db.ipynb\" target=\"_parent\"><img src=\"https://colab.research.google.com/assets/colab-badge.svg\" alt=\"Open In Colab\"/></a>"
      ]
    },
    {
      "cell_type": "markdown",
      "metadata": {
        "id": "boZk0i4x4Oc5",
        "colab_type": "text"
      },
      "source": [
        "**Can a neural network  predict what Database to be used for my application Design ?**"
      ]
    },
    {
      "cell_type": "code",
      "metadata": {
        "id": "u7u81MdK4R-Z",
        "colab_type": "code",
        "outputId": "0f809f1c-5f87-4447-a7f4-70c4922db4da",
        "colab": {
          "base_uri": "https://localhost:8080/",
          "height": 34
        }
      },
      "source": [
        "\n",
        "import numpy\n",
        "import pandas\n",
        "from keras.models import Sequential\n",
        "from keras.layers import Dense\n",
        "from keras.wrappers.scikit_learn import KerasClassifier\n",
        "from keras.utils import np_utils\n",
        "from sklearn.model_selection import cross_val_score\n",
        "from sklearn.model_selection import KFold\n",
        "from sklearn.preprocessing import LabelEncoder\n",
        "from sklearn.pipeline import Pipeline\n",
        "import numpy\n",
        "import pandas\n",
        "import io\n",
        "import requests\n",
        "from keras.models import Sequential\n",
        "from keras.layers import Dense\n",
        "from keras.wrappers.scikit_learn import KerasClassifier\n",
        "from keras.utils import np_utils\n",
        "from sklearn.model_selection import cross_val_score\n",
        "from sklearn.model_selection import train_test_split\n",
        "from sklearn.model_selection import KFold\n",
        "from sklearn.preprocessing import LabelEncoder\n",
        "from sklearn.pipeline import Pipeline"
      ],
      "execution_count": 0,
      "outputs": [
        {
          "output_type": "stream",
          "text": [
            "Using TensorFlow backend.\n"
          ],
          "name": "stderr"
        }
      ]
    },
    {
      "cell_type": "markdown",
      "metadata": {
        "id": "QEPLWQXy5gKC",
        "colab_type": "text"
      },
      "source": [
        "**Training an Artificial Neural Network**\n",
        "* Training an artificial neural network involves the following steps:\n",
        "* Weights are randomly initialized to numbers that are near zero but not zero.\n",
        "* Feed the observations of your dataset to the input layer.\n",
        "* Forward propagation (from left to right): neurons are activated and the predicted values are obtained.\n",
        "* Compare predicted results to actual values and measure the error.\n",
        "* Backward propagation (from right to left): weights are adjusted.\n",
        "* Repeat steps 1–5\n",
        "One epoch is achieved when the whole training set has gone through the neural network."
      ]
    },
    {
      "cell_type": "code",
      "metadata": {
        "id": "Rf5Bzp7k5utr",
        "colab_type": "code",
        "colab": {}
      },
      "source": [
        "# fix random seed for reproducibility\n",
        "seed = 7\n",
        "numpy.random.seed(seed)"
      ],
      "execution_count": 0,
      "outputs": []
    },
    {
      "cell_type": "markdown",
      "metadata": {
        "id": "xcA7EyjE54-b",
        "colab_type": "text"
      },
      "source": [
        "Now load the dataset to train the model . The dataset formatted as ***TPS,data Volume,CucurrentUsers,TargetRespTime,DB***"
      ]
    },
    {
      "cell_type": "code",
      "metadata": {
        "id": "2fmQoxp858Ai",
        "colab_type": "code",
        "colab": {}
      },
      "source": [
        "# load dataset\n",
        "import pandas as pd\n",
        "import io\n",
        "import requests\n",
        "url=\"https://raw.githubusercontent.com/kssaril/machine-learning/master/databasepropsdat.csv\"\n",
        "content=requests.get(url).content\n",
        "dataframe=pd.read_csv(io.StringIO(content.decode('utf-8')),header=None)\n",
        "\n",
        "#dataframe = pandas.read_csv(\"/Users/kamas012/Proj/ML/Learn/databasepropsdat.csv\", header=None)\n",
        "dataset = dataframe.values\n",
        "X = dataset[:,0:4].astype(float)\n",
        "Y = dataset[:,4]"
      ],
      "execution_count": 0,
      "outputs": []
    },
    {
      "cell_type": "markdown",
      "metadata": {
        "id": "QLh8akZe6p3t",
        "colab_type": "text"
      },
      "source": [
        "Test the data "
      ]
    },
    {
      "cell_type": "code",
      "metadata": {
        "id": "j-2A9h606rS0",
        "colab_type": "code",
        "outputId": "70eb92a6-04c1-4e41-dfe2-cb81e61f9533",
        "colab": {
          "base_uri": "https://localhost:8080/",
          "height": 34
        }
      },
      "source": [
        "X[1]"
      ],
      "execution_count": 0,
      "outputs": [
        {
          "output_type": "execute_result",
          "data": {
            "text/plain": [
              "array([63. , 33. , 47. ,  1.6])"
            ]
          },
          "metadata": {
            "tags": []
          },
          "execution_count": 4
        }
      ]
    },
    {
      "cell_type": "code",
      "metadata": {
        "id": "CDMrB8rO6vgS",
        "colab_type": "code",
        "outputId": "f3193dd6-9aef-4869-f728-bafbf239e94e",
        "colab": {
          "base_uri": "https://localhost:8080/",
          "height": 34
        }
      },
      "source": [
        "Y[:5]"
      ],
      "execution_count": 0,
      "outputs": [
        {
          "output_type": "execute_result",
          "data": {
            "text/plain": [
              "array(['Oracle', 'DynamoDB', 'Oracle', 'Oracle', 'DynamoDB'], dtype=object)"
            ]
          },
          "metadata": {
            "tags": []
          },
          "execution_count": 5
        }
      ]
    },
    {
      "cell_type": "markdown",
      "metadata": {
        "id": "pxuvREF56ywN",
        "colab_type": "text"
      },
      "source": [
        "We need to hot encode the Labels"
      ]
    },
    {
      "cell_type": "code",
      "metadata": {
        "id": "-gU2VPtH600s",
        "colab_type": "code",
        "colab": {}
      },
      "source": [
        "# encode class values as integers\n",
        "encoder = LabelEncoder()\n",
        "encoder.fit(Y)\n",
        "encoded_Y = encoder.transform(Y)\n",
        "# convert integers to dummy variables (i.e. one hot encoded)\n",
        "hot_encoded_y = np_utils.to_categorical(encoded_Y)"
      ],
      "execution_count": 0,
      "outputs": []
    },
    {
      "cell_type": "markdown",
      "metadata": {
        "id": "xGxTl1kT6367",
        "colab_type": "text"
      },
      "source": [
        "Sample hot encoded label"
      ]
    },
    {
      "cell_type": "code",
      "metadata": {
        "id": "qxoi_DbQ66ss",
        "colab_type": "code",
        "outputId": "a57638f4-cbbb-43ac-e8a7-2dc9d983984a",
        "colab": {
          "base_uri": "https://localhost:8080/",
          "height": 187
        }
      },
      "source": [
        "hot_encoded_y[:10]"
      ],
      "execution_count": 0,
      "outputs": [
        {
          "output_type": "execute_result",
          "data": {
            "text/plain": [
              "array([[0., 0., 1.],\n",
              "       [1., 0., 0.],\n",
              "       [0., 0., 1.],\n",
              "       [0., 0., 1.],\n",
              "       [1., 0., 0.],\n",
              "       [1., 0., 0.],\n",
              "       [0., 1., 0.],\n",
              "       [0., 0., 1.],\n",
              "       [0., 1., 0.],\n",
              "       [1., 0., 0.]], dtype=float32)"
            ]
          },
          "metadata": {
            "tags": []
          },
          "execution_count": 7
        }
      ]
    },
    {
      "cell_type": "markdown",
      "metadata": {
        "id": "h4BKIAvo6-Ey",
        "colab_type": "text"
      },
      "source": [
        "**Define the Neural Network**\n",
        "* There is no rule of thumb as to how many nodes you should add. However, a common strategy is to choose the number of nodes as the average of nodes in the input layer and the number of nodes in the output layer.\n",
        "\n",
        "* First param - number of nodes you want to add to this layer \n",
        "* The Rectified Linear Unit is the most commonly used activation function in deep learning models. \n",
        "* Compiling the ANN need optimizer which helps in getting optimized set of weights in the NN \n",
        "metrics - Criteria used to evaluate the model"
      ]
    },
    {
      "cell_type": "code",
      "metadata": {
        "id": "CVwpHkSa7E2D",
        "colab_type": "code",
        "colab": {}
      },
      "source": [
        "# define baseline model\n",
        "def baseline_model():\n",
        "\t# create model\n",
        "\tmodel = Sequential()\n",
        "\tmodel.add(Dense(8, input_dim=4, activation='relu'))\n",
        "\tmodel.add(Dense(3, activation='softmax'))\n",
        "\t# Compile model\n",
        "\tmodel.compile(loss='categorical_crossentropy', optimizer='adam', metrics=['accuracy'])\n",
        "\treturn model"
      ],
      "execution_count": 0,
      "outputs": []
    },
    {
      "cell_type": "markdown",
      "metadata": {
        "id": "4e83fNUi7I4m",
        "colab_type": "text"
      },
      "source": [
        "Create classifier using KerasClassifier to train the model using the data with 200 epochs "
      ]
    },
    {
      "cell_type": "code",
      "metadata": {
        "id": "bMqtwOc57TZT",
        "colab_type": "code",
        "colab": {}
      },
      "source": [
        "estimator = KerasClassifier(build_fn=baseline_model, epochs=200, batch_size=5, verbose=0)"
      ],
      "execution_count": 0,
      "outputs": []
    },
    {
      "cell_type": "markdown",
      "metadata": {
        "id": "JHBZsE_e7WVT",
        "colab_type": "text"
      },
      "source": [
        "**evaluate the model**\n",
        "<br>\n",
        "In k-fold cross-validation, the original sample is randomly partitioned into k equal sized subsamples. Of the k subsamples, a single subsample is retained as the validation data for testing the model, and the remaining k − 1 subsamples are used as training data"
      ]
    },
    {
      "cell_type": "code",
      "metadata": {
        "id": "LMhLJqiv7ass",
        "colab_type": "code",
        "colab": {}
      },
      "source": [
        "kfold = KFold(n_splits=10, shuffle=True, random_state=seed)"
      ],
      "execution_count": 0,
      "outputs": []
    },
    {
      "cell_type": "markdown",
      "metadata": {
        "id": "vpNYJT0t7cTL",
        "colab_type": "text"
      },
      "source": [
        "\n",
        "**Evaluate the model and print results**\n",
        "\n"
      ]
    },
    {
      "cell_type": "code",
      "metadata": {
        "id": "eKFpArhb7fIz",
        "colab_type": "code",
        "outputId": "472ad619-18a0-4079-9c48-9e956f421ae8",
        "colab": {
          "base_uri": "https://localhost:8080/",
          "height": 156
        }
      },
      "source": [
        "results = cross_val_score(estimator, X, hot_encoded_y, cv=kfold)\n",
        "print(\"Baseline: %.2f%% (%.2f%%)\" % (results.mean()*100, results.std()*100))"
      ],
      "execution_count": 0,
      "outputs": [
        {
          "output_type": "stream",
          "text": [
            "WARNING:tensorflow:From /usr/local/lib/python2.7/dist-packages/tensorflow/python/framework/op_def_library.py:263: colocate_with (from tensorflow.python.framework.ops) is deprecated and will be removed in a future version.\n",
            "Instructions for updating:\n",
            "Colocations handled automatically by placer.\n",
            "WARNING:tensorflow:From /usr/local/lib/python2.7/dist-packages/tensorflow/python/ops/math_ops.py:3066: to_int32 (from tensorflow.python.ops.math_ops) is deprecated and will be removed in a future version.\n",
            "Instructions for updating:\n",
            "Use tf.cast instead.\n",
            "Baseline: 68.79% (35.29%)\n"
          ],
          "name": "stdout"
        }
      ]
    },
    {
      "cell_type": "markdown",
      "metadata": {
        "id": "U5jmolke7ze8",
        "colab_type": "text"
      },
      "source": [
        "Split the Data into train sets and test set  and \n",
        "train the model with train data"
      ]
    },
    {
      "cell_type": "code",
      "metadata": {
        "id": "E2-wQRkR70fz",
        "colab_type": "code",
        "outputId": "fab84099-3a51-48ff-b35b-5729f791a43d",
        "colab": {
          "base_uri": "https://localhost:8080/",
          "height": 34
        }
      },
      "source": [
        "X_train, X_test, Y_train, Y_test = train_test_split(X, hot_encoded_y, test_size=0.33, random_state=seed)\n",
        "estimator.fit(X_train, Y_train)"
      ],
      "execution_count": 0,
      "outputs": [
        {
          "output_type": "execute_result",
          "data": {
            "text/plain": [
              "<keras.callbacks.History at 0x7f63fad3e550>"
            ]
          },
          "metadata": {
            "tags": []
          },
          "execution_count": 15
        }
      ]
    },
    {
      "cell_type": "markdown",
      "metadata": {
        "id": "Z9niQPQI7__G",
        "colab_type": "text"
      },
      "source": [
        "Ask the model to predict what DB  the best choice for a set of input data arrays . Here I use the test data set  ?"
      ]
    },
    {
      "cell_type": "code",
      "metadata": {
        "id": "BIiLDeRz8LAU",
        "colab_type": "code",
        "outputId": "e2856faa-41c6-4691-8066-c59c758ab5e3",
        "colab": {
          "base_uri": "https://localhost:8080/",
          "height": 153
        }
      },
      "source": [
        "predictions = estimator.predict(X_test)\n",
        "print(encoder.inverse_transform(predictions))"
      ],
      "execution_count": 0,
      "outputs": [
        {
          "output_type": "stream",
          "text": [
            "['DynamoDB' 'Oracle' 'DynamoDB' 'Oracle' 'Oracle' 'DynamoDB' 'DynamoDB'\n",
            " 'MariaDB' 'DynamoDB' 'MariaDB' 'DynamoDB' 'DynamoDB' 'Oracle' 'Oracle'\n",
            " 'Oracle' 'MariaDB' 'MariaDB' 'MariaDB' 'Oracle' 'DynamoDB' 'Oracle'\n",
            " 'DynamoDB' 'Oracle' 'DynamoDB' 'Oracle' 'DynamoDB' 'DynamoDB' 'MariaDB'\n",
            " 'DynamoDB' 'Oracle' 'Oracle' 'Oracle' 'Oracle' 'MariaDB' 'DynamoDB'\n",
            " 'MariaDB' 'MariaDB' 'DynamoDB' 'DynamoDB' 'Oracle' 'Oracle' 'DynamoDB'\n",
            " 'DynamoDB' 'Oracle' 'DynamoDB' 'MariaDB' 'MariaDB' 'Oracle' 'DynamoDB'\n",
            " 'DynamoDB' 'DynamoDB' 'MariaDB']\n"
          ],
          "name": "stdout"
        }
      ]
    },
    {
      "cell_type": "markdown",
      "metadata": {
        "id": "IPkuv_Ie8SAO",
        "colab_type": "text"
      },
      "source": [
        "**Lets try what the model will predict for a single input **"
      ]
    },
    {
      "cell_type": "code",
      "metadata": {
        "id": "vx4gZHMp8bTj",
        "colab_type": "code",
        "outputId": "ab04ab14-6769-4d3b-8809-179fd06bbde3",
        "colab": {
          "base_uri": "https://localhost:8080/",
          "height": 34
        }
      },
      "source": [
        "from numpy import array\n",
        "data = array([[90. , 35. , 10. ,  1.2]])\n",
        "predictions = estimator.predict(data)\n",
        "print(encoder.inverse_transform(predictions))"
      ],
      "execution_count": 0,
      "outputs": [
        {
          "output_type": "stream",
          "text": [
            "['MariaDB']\n"
          ],
          "name": "stdout"
        }
      ]
    }
  ]
}